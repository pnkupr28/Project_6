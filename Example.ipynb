{
 "cells": [
  {
   "cell_type": "markdown",
   "metadata": {},
   "source": [
    "# NLP Dataset\n",
    "\n",
    "\n",
    "This Jupyter notebook serves as an example on how to create a classification model for a text dataset"
   ]
  },
  {
   "cell_type": "markdown",
   "metadata": {},
   "source": [
    "## Import \n",
    "\n",
    "In the following cell we import a lot of libraries. If you get a `ModuleNotFound` error, install the library using `pip`. "
   ]
  },
  {
   "cell_type": "code",
   "execution_count": 2,
   "metadata": {},
   "outputs": [],
   "source": [
    "# Python built-in libraries\n",
    "from pathlib import Path\n",
    "\n",
    "# Core Math and Visualization Libraries\n",
    "import matplotlib.pyplot as plt\n",
    "import pandas as pd\n",
    "import nltk\n",
    "\n",
    "# sci-kit (sklearn) is a Machine Learning Library\n",
    "from sklearn.feature_extraction.text import CountVectorizer, TfidfVectorizer\n",
    "from sklearn.metrics import confusion_matrix, accuracy_score,ConfusionMatrixDisplay\n",
    "from sklearn.model_selection import train_test_split\n",
    "from sklearn.naive_bayes import MultinomialNB \n",
    "from sklearn.utils.multiclass import unique_labels\n",
    "\n",
    "from nltk.stem import WordNetLemmatizer\n",
    "from nltk.corpus import stopwords\n",
    "\n",
    "# Run this once. \n",
    "# nltk.download(\"punkt\")\n",
    "# nltk.download('wordnet')\n",
    "# nltk.download('stopwords')"
   ]
  },
  {
   "cell_type": "markdown",
   "metadata": {},
   "source": [
    "## Step 1. Load and explore the dataset\n",
    "\n",
    "The first step is to load the dataset file and explore it. When exploring answer the following questions:\n",
    "\n",
    "Q1. How many samples are there in the dataset? The amount of samples in the IMDB dataset 39,000\n",
    "\n",
    "Q2. How many labels are there? There are two labels (positive, and negative)\n",
    "\n",
    "Q3. Is the dataset balanced? If not, what is the distribution? Yes the dataset is balanced because there are 19505 positive and 19495 negative number of samples"
   ]
  },
  {
   "cell_type": "code",
   "execution_count": 3,
   "metadata": {},
   "outputs": [],
   "source": [
    "# In this cell, we use a built-in Python library to specify paths:\n",
    "\n",
    "# CWD stands for current working directory\n",
    "CWD = Path.cwd()\n",
    "dataset_filepath = CWD.joinpath('dataset', 'IMDB Dataset.csv')"
   ]
  },
  {
   "cell_type": "markdown",
   "metadata": {},
   "source": [
    "Q4. What does the `cwd` method do? What does the `joinpath` method do? The \"cwd\" method returns a path object that represents the current working directory of the process, while \"joinpath\" has the function of appending one or more smaller paths to the main path object. With \"joinpath\" this then returns a new path. \n",
    "Q5. What are 2 additional methods in a `Path` object and describe them? Exists() is one method that checks whether the path exists in the file system. \"Exists\" will return True if the path points to an existing file or directory, and it will return False otherwise."
   ]
  },
  {
   "cell_type": "markdown",
   "metadata": {},
   "source": [
    "#### We use `pandas`, a library to manage CSV files. "
   ]
  },
  {
   "cell_type": "code",
   "execution_count": 4,
   "metadata": {},
   "outputs": [
    {
     "data": {
      "text/html": [
       "<div>\n",
       "<style scoped>\n",
       "    .dataframe tbody tr th:only-of-type {\n",
       "        vertical-align: middle;\n",
       "    }\n",
       "\n",
       "    .dataframe tbody tr th {\n",
       "        vertical-align: top;\n",
       "    }\n",
       "\n",
       "    .dataframe thead th {\n",
       "        text-align: right;\n",
       "    }\n",
       "</style>\n",
       "<table border=\"1\" class=\"dataframe\">\n",
       "  <thead>\n",
       "    <tr style=\"text-align: right;\">\n",
       "      <th></th>\n",
       "      <th>review</th>\n",
       "      <th>sentiment</th>\n",
       "    </tr>\n",
       "  </thead>\n",
       "  <tbody>\n",
       "    <tr>\n",
       "      <th>0</th>\n",
       "      <td>One of the other reviewers has mentioned that ...</td>\n",
       "      <td>positive</td>\n",
       "    </tr>\n",
       "    <tr>\n",
       "      <th>1</th>\n",
       "      <td>A wonderful little production. &lt;br /&gt;&lt;br /&gt;The...</td>\n",
       "      <td>positive</td>\n",
       "    </tr>\n",
       "    <tr>\n",
       "      <th>2</th>\n",
       "      <td>I thought this was a wonderful way to spend ti...</td>\n",
       "      <td>positive</td>\n",
       "    </tr>\n",
       "    <tr>\n",
       "      <th>3</th>\n",
       "      <td>Basically there's a family where a little boy ...</td>\n",
       "      <td>negative</td>\n",
       "    </tr>\n",
       "    <tr>\n",
       "      <th>4</th>\n",
       "      <td>Petter Mattei's \"Love in the Time of Money\" is...</td>\n",
       "      <td>positive</td>\n",
       "    </tr>\n",
       "  </tbody>\n",
       "</table>\n",
       "</div>"
      ],
      "text/plain": [
       "                                              review sentiment\n",
       "0  One of the other reviewers has mentioned that ...  positive\n",
       "1  A wonderful little production. <br /><br />The...  positive\n",
       "2  I thought this was a wonderful way to spend ti...  positive\n",
       "3  Basically there's a family where a little boy ...  negative\n",
       "4  Petter Mattei's \"Love in the Time of Money\" is...  positive"
      ]
     },
     "execution_count": 4,
     "metadata": {},
     "output_type": "execute_result"
    }
   ],
   "source": [
    "data = pd.read_csv(dataset_filepath, encoding=\"utf-8\")\n",
    "data.head()"
   ]
  },
  {
   "cell_type": "code",
   "execution_count": 5,
   "metadata": {},
   "outputs": [],
   "source": [
    "types_of_values = data['sentiment'].value_counts()"
   ]
  },
  {
   "cell_type": "markdown",
   "metadata": {},
   "source": [
    "Q6. `pandas` returns a `DataFrame` object. How can you access individual rows from the CSV file in the `DataFrame` object? To access rows within a pandas DataFrame, you can use different methods. The .loc method retrieves rows by their index labels, which is particularly useful if the DataFrame has a designated index. Another way to work with rows is by using the iterrows() function, which allows for iteration over each row, returning it as an (index, Series) pair."
   ]
  },
  {
   "cell_type": "markdown",
   "metadata": {},
   "source": [
    "### Use a `matplotlib` a data visualization library to graph the number of labels"
   ]
  },
  {
   "cell_type": "code",
   "execution_count": 6,
   "metadata": {},
   "outputs": [
    {
     "data": {
      "image/png": "[encoded data removed]",
      "text/plain": [
       "<Figure size 640x480 with 1 Axes>"
      ]
     },
     "metadata": {},
     "output_type": "display_data"
    }
   ],
   "source": [
    "label_counts = data['sentiment'].value_counts()\n",
    "\n",
    "labels = label_counts.index\n",
    "counts = label_counts.values\n",
    "\n",
    "plt.bar(labels, counts)\n",
    "\n",
    "plt.title(\"Observations by Classification Type\")\n",
    "plt.xlabel(\"Classification Type\")\n",
    "plt.ylabel(\"Number of Samples\")\n",
    "\n",
    "for i, count in enumerate(counts):\n",
    "    plt.text(i, count, str(count), ha='center', va='bottom')\n",
    "\n",
    "plt.show()"
   ]
  },
  {
   "cell_type": "markdown",
   "metadata": {},
   "source": [
    "Q7. What does the `value_counts` method do? What type of object does it return? It counts the occurrences of unique values within a Series and returns the frequency of each value, typically in descending order. The result is a pandas Series where the index corresponds to the unique values, and the values indicate the count of each occurrence."
   ]
  },
  {
   "cell_type": "markdown",
   "metadata": {},
   "source": [
    "## Step 2. Preprocess the dataset and extract features\n",
    "\n",
    "After we understand the nature of the dataset, in the second step, we split the dataset into train and test sets, and preprocess them. "
   ]
  },
  {
   "cell_type": "code",
   "execution_count": 7,
   "metadata": {},
   "outputs": [],
   "source": [
    "X_train, X_test, y_train, y_test = train_test_split(data['review'], data['sentiment'], test_size=0.2, random_state=42, )"
   ]
  },
  {
   "cell_type": "markdown",
   "metadata": {},
   "source": [
    "Q8. Briefly describe how `train_test_split` method works? What are some additional parameters that the function has and we can provide? Write at least two additional parameters and describe what do they mean? The \"train_test_split\" function divides a dataset into training and testing subsets. This split is done randomly, with the sizes of each subset determined by the user. While the randomness ensures an unbiased split, it can be controlled using a random seed to make the results reproducible.\n",
    "\n",
    "test_size: Determines the portion of the dataset allocated to the test set. It can be specified as a float (for example, 0.3 for 30%) or an integer (for example, 30 for 30 samples). If left unspecified, the default value is 0.25, meaning 25% of the data is used for testing, and the rest (which is 75%) will be used for training.\n",
    "\n",
    "random_state: Manages the randomness of the data splitting process. Setting this parameter ensures reproducibility, allowing the same data split to occur each time the function is run."
   ]
  },
  {
   "cell_type": "code",
   "execution_count": 8,
   "metadata": {},
   "outputs": [],
   "source": [
    "import string\n",
    "\n",
    "def preprocess_text(text: str) -> str:\n",
    "    \"\"\"\n",
    "    This method processes a text by lower the letters, removing punctuation, removing stopwords, and lemmatizing the words.\n",
    "\n",
    "    \"\"\"\n",
    "    \n",
    "    lowercase_text = text.lower()\n",
    "    lowercase_text = lowercase_text.translate(str.maketrans('', '', string.punctuation))\n",
    "    split_text = lowercase_text.split()\n",
    "\n",
    "    stop_words = set(stopwords.words('english'))\n",
    "    filtered_words = [word for word in split_text if word not in stop_words]\n",
    "\n",
    "    lemmatizer = WordNetLemmatizer()\n",
    "    lemmatized_words = [lemmatizer.lemmatize(word) for word in filtered_words]\n",
    "\n",
    "    return \" \".join(lemmatized_words)"
   ]
  },
  {
   "cell_type": "markdown",
   "metadata": {},
   "source": [
    "Q9. In the following code snippet, we use `apply` method to preprocess the text instead of calling `preprocess_text` on each row of the dataset. How does this work? Brielfy describe how to use the `apply` method\n",
    "\n",
    "The .apply method is a powerful tool for applying a function, such as preprocess_text, to each element in a Series or to rows/columns in a DataFrame. In the provided code snippet, apply is used to preprocess text data in X_train and X_test without requiring an explicit loop. Instead, the method passes each element of the Series to the preprocess_text function, which performs the specified transformations. The results are returned as new Series objects, preprocessed_X_train and preprocessed_X_test, containing the transformed text. For instance, if you needed to convert all text in a column to lowercase, you could use .apply with a lambda function like this: df[\"column_name\"] = df[\"column_name\"].apply(lambda x: x.lower()). This approach applies the lower() method to every element in the column, producing a simplified and efficient transformation compared to manual iteration."
   ]
  },
  {
   "cell_type": "code",
   "execution_count": 9,
   "metadata": {},
   "outputs": [],
   "source": [
    "preprocessed_X_train = X_train.apply(preprocess_text)\n",
    "preprocessed_X_test = X_test.apply(preprocess_text)"
   ]
  },
  {
   "cell_type": "code",
   "execution_count": 10,
   "metadata": {},
   "outputs": [],
   "source": [
    "def create_bag_of_words_model(preprocessed_X_train):\n",
    "    \"\"\"\n",
    "    This method creates a bag of words model from a preprocessed text.\n",
    "\n",
    "    \"\"\"\n",
    "    \n",
    "    vectorizer = CountVectorizer()\n",
    "    vectorized_data = vectorizer.fit_transform(preprocessed_X_train)\n",
    "    return vectorized_data, vectorizer\n",
    "    \n",
    "\n",
    "def create_tfidf_model(preprocessed_X_train):\n",
    "    \"\"\"\n",
    "    This method creates a tfidf model from a preprocessed text.\n",
    "\n",
    "    \"\"\"\n",
    "    \n",
    "    vectorizer = TfidfVectorizer()\n",
    "    vectorized_data = vectorizer.fit_transform(preprocessed_X_train)\n",
    "    return vectorized_data, vectorizer\n"
   ]
  },
  {
   "cell_type": "markdown",
   "metadata": {},
   "source": [
    "Q10. Describe `CountVectorizer` and `TfidfVectorizer` classes? What do they do?  Have you seen/written code that is similar to the implementation of these details before? \"CountVectorizer\" transforms a collection of text documents into a bag-of-words format, where each document is represented as a vector indicating the frequency of each word in the vocabulary. The output is a matrix with rows as documents and columns as terms. Then with \"TfidfVectorizer\" it functions similarly to \"CountVectorizer\" but instead calculates TF-IDF (Term Frequency-Inverse Document Frequency) values. These values highlight how important a term is to a specific document while reducing the influence of terms that frequently occur across all documents. Although I haven’t worked with this exact syntax before, I applied TF-IDF in Project 4a to process and analyze textual data. \n",
    "\n",
    "\n",
    "Q11. What does the `fit_transform` method do? The \"fit\" portion examines the input data to learn the vocabulary and relevant statistics, such as word frequencies or TF-IDF weights, while the \"transform\" part converts the data into a numerical matrix using the vocabulary and statistics it learned.\n",
    "\n",
    "Q12. What are two additional methods that both classes have and what do they do?\n",
    "One additional method is \"get_feature_names_out()\" which provides an array of the terms in the vocabulary after processing. Another additional method is \"inverse_transform()\" which reconstructs text from a numerical matrix by mapping the values back to their corresponding terms in the vocabulary."
   ]
  },
  {
   "cell_type": "code",
   "execution_count": 11,
   "metadata": {},
   "outputs": [],
   "source": [
    "x_train, vectorizer = create_bag_of_words_model(preprocessed_X_train)\n",
    "x_test = vectorizer.transform(preprocessed_X_test)"
   ]
  },
  {
   "cell_type": "markdown",
   "metadata": {},
   "source": [
    "## Step 3. Train the model"
   ]
  },
  {
   "cell_type": "code",
   "execution_count": 12,
   "metadata": {},
   "outputs": [],
   "source": [
    "def train_model(x_train, y_train):\n",
    "    \"\"\"\n",
    "    This method trains a naive bayes model.\n",
    "\n",
    "    \"\"\"\n",
    "    \n",
    "    model = MultinomialNB()\n",
    "    model.fit(x_train, y_train)\n",
    "    return model"
   ]
  },
  {
   "cell_type": "code",
   "execution_count": 13,
   "metadata": {},
   "outputs": [],
   "source": [
    "model = train_model(x_train, y_train)"
   ]
  },
  {
   "cell_type": "markdown",
   "metadata": {},
   "source": [
    "Q13. What are 2 additional methods of the `MultinomialNB` class? What do they do? One additional method is \"predict()\" which takes in new data and predicts the class labels based on the probabilities learned during training. It returns an array of predicted labels for the input samples. The second method is \"predict_proba()\" which is a method that provides the probability estimates for each class label. For each input sample, it returns an array where each value represents the likelihood of the sample belonging to a particular class.\n",
    "\n",
    "Q14. What are some other variations of the Naive Bayes model available? \n",
    "One variation is the \"Bernoulli Naive Bayes (BernoulliNB):\" which is designed for binary or boolean features, this model is suitable when the input data consists of binary-valued attributes. Another variation is \"Categorical Naive Bayes (CategoricalNB):\" this one is tailored for categorical features, this model calculates probabilities directly from categorical distributions rather than assuming numerical distributions. A third variation is the \"Gaussian Naive Bayes (GaussianNB):\" this variation assumes that the features follow a Gaussian (normal) distribution and is often used for continuous data."
   ]
  },
  {
   "cell_type": "markdown",
   "metadata": {},
   "source": [
    "## Step 4. Evaluate the model"
   ]
  },
  {
   "cell_type": "code",
   "execution_count": 14,
   "metadata": {},
   "outputs": [],
   "source": [
    "def evaluate_model(model, x_test, y_test):\n",
    "    \"\"\"\n",
    "    This method evaluates a model.\n",
    "\n",
    "    \"\"\"\n",
    "    \n",
    "    y_pred = model.predict(x_test)\n",
    "    accuracy = accuracy_score(y_test, y_pred)\n",
    "    confusion = confusion_matrix(y_test, y_pred)\n",
    "    return accuracy, confusion"
   ]
  },
  {
   "cell_type": "code",
   "execution_count": 15,
   "metadata": {},
   "outputs": [],
   "source": [
    "accuracy, cf_matrix = evaluate_model(model, x_test, y_test)"
   ]
  },
  {
   "cell_type": "code",
   "execution_count": 16,
   "metadata": {},
   "outputs": [
    {
     "name": "stdout",
     "output_type": "stream",
     "text": [
      "The accuracy is:  0.86\n"
     ]
    }
   ],
   "source": [
    "print(f\"The accuracy is: {accuracy: .2f}\")"
   ]
  },
  {
   "cell_type": "code",
   "execution_count": 17,
   "metadata": {},
   "outputs": [
    {
     "data": {
      "text/plain": [
       "<sklearn.metrics._plot.confusion_matrix.ConfusionMatrixDisplay at 0x12862cf70>"
      ]
     },
     "execution_count": 17,
     "metadata": {},
     "output_type": "execute_result"
    },
    {
     "data": {
      "image/png": "[encoded data removed]",
      "text/plain": [
       "<Figure size 640x480 with 2 Axes>"
      ]
     },
     "metadata": {},
     "output_type": "display_data"
    }
   ],
   "source": [
    "ConfusionMatrixDisplay(cf_matrix, display_labels=model.classes_).plot()"
   ]
  },
  {
   "cell_type": "markdown",
   "metadata": {},
   "source": [
    "Q15. In step 2, we created a Bag of Words model to extract features, and then trained and evaluated the model. In the section below, use the tf-idf model to represent features and train and evaluate the model.   \n",
    "\n",
    "Q16. Compare the accuracy of the ML model when using Bag of Words model versus TF-IDF model. Which model performed better?\n",
    "Overall after comparing the accuracy of the Bag of Words model versus the TF-IDF model, we can see that the TF-IDF model performs better because it weighs the importance of each term relative to the entire dataset, unlike the Bag of Words model, which simply counts term frequencies."
   ]
  },
  {
   "cell_type": "markdown",
   "metadata": {},
   "source": [
    "## Steps 2, 3, and 4 - Using TF IDF vectors to extract features, training the model, and evaluating the model"
   ]
  },
  {
   "cell_type": "code",
   "execution_count": 18,
   "metadata": {},
   "outputs": [
    {
     "name": "stdout",
     "output_type": "stream",
     "text": [
      "Accuracy with TF-IDF: 0.8706410256410256\n"
     ]
    }
   ],
   "source": [
    "from pathlib import Path\n",
    "import matplotlib.pyplot as plt\n",
    "import pandas as pd\n",
    "import nltk\n",
    "\n",
    "from sklearn.feature_extraction.text import TfidfVectorizer\n",
    "from sklearn.naive_bayes import MultinomialNB\n",
    "from sklearn.metrics import accuracy_score, confusion_matrix, ConfusionMatrixDisplay\n",
    "\n",
    "\n",
    "\n",
    "vectorizer = TfidfVectorizer()\n",
    "\n",
    "X_train_tfidf = vectorizer.fit_transform(preprocessed_X_train)\n",
    "X_test_tfidf = vectorizer.transform(preprocessed_X_test)\n",
    "\n",
    "model_tfidf = MultinomialNB()\n",
    "model_tfidf.fit(X_train_tfidf, y_train)\n",
    "\n",
    "y_pred_tfidf = model_tfidf.predict(X_test_tfidf)\n",
    "\n",
    "accuracy_tfidf = accuracy_score(y_test, y_pred_tfidf)\n",
    "print(f\"Accuracy with TF-IDF: {accuracy_tfidf}\")"
   ]
  }
 ],
 "metadata": {
  "kernelspec": {
   "display_name": "colby",
   "language": "python",
   "name": "python3"
  },
  "language_info": {
   "codemirror_mode": {
    "name": "ipython",
    "version": 3
   },
   "file_extension": ".py",
   "mimetype": "text/x-python",
   "name": "python",
   "nbconvert_exporter": "python",
   "pygments_lexer": "ipython3",
   "version": "3.9.6"
  }
 },
 "nbformat": 4,
 "nbformat_minor": 2
}
