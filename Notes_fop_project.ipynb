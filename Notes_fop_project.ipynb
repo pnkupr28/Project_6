{
 "cells": [
  {
   "cell_type": "code",
   "execution_count": null,
   "metadata": {},
   "outputs": [],
   "source": [
    "##We will use a library for a classification test \n",
    "\n",
    "\n",
    "#The datset IDMB is not split so u have to split it (You can use any dataset but not IDMB)\n",
    "\n",
    "\n",
    "##If ham (not spam message), and spam(is a spam message)\n"
   ]
  }
 ],
 "metadata": {
  "language_info": {
   "name": "python"
  }
 },
 "nbformat": 4,
 "nbformat_minor": 2
}
